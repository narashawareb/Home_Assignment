{
 "cells": [
  {
   "cell_type": "markdown",
   "metadata": {},
   "source": [
    "# Default Mode Network Analysis--fMRI & Histogram plot\n",
    "\n",
    "**Name**: Nara Alshawareb\n",
    "\n",
    "**Date**: 24/11/2024\n",
    "\n",
    "**Link**: [Default Network](https://neurosynth.org/analyses/terms/default%20network/)\n"
   ]
  },
  {
   "cell_type": "markdown",
   "metadata": {},
   "source": [
    "## Initiation cell\n",
    "Importing necessary packages in order to use for the data analysis "
   ]
  },
  {
   "cell_type": "code",
   "execution_count": 7,
   "metadata": {},
   "outputs": [
    {
     "ename": "ModuleNotFoundError",
     "evalue": "No module named 'nilearn'",
     "output_type": "error",
     "traceback": [
      "\u001b[0;31m---------------------------------------------------------------------------\u001b[0m",
      "\u001b[0;31mModuleNotFoundError\u001b[0m                       Traceback (most recent call last)",
      "Cell \u001b[0;32mIn[7], line 2\u001b[0m\n\u001b[1;32m      1\u001b[0m \u001b[38;5;28;01mimport\u001b[39;00m \u001b[38;5;21;01mnumpy\u001b[39;00m \u001b[38;5;28;01mas\u001b[39;00m \u001b[38;5;21;01mnp\u001b[39;00m\n\u001b[0;32m----> 2\u001b[0m \u001b[38;5;28;01mfrom\u001b[39;00m \u001b[38;5;21;01mnilearn\u001b[39;00m \u001b[38;5;28;01mimport\u001b[39;00m plotting\n\u001b[1;32m      3\u001b[0m \u001b[38;5;28;01mimport\u001b[39;00m \u001b[38;5;21;01mnibabel\u001b[39;00m \u001b[38;5;28;01mas\u001b[39;00m \u001b[38;5;21;01mnib\u001b[39;00m\n\u001b[1;32m      4\u001b[0m \u001b[38;5;28;01mimport\u001b[39;00m \u001b[38;5;21;01mmatplotlib\u001b[39;00m\u001b[38;5;21;01m.\u001b[39;00m\u001b[38;5;21;01mpyplot\u001b[39;00m \u001b[38;5;28;01mas\u001b[39;00m \u001b[38;5;21;01mplt\u001b[39;00m\n",
      "\u001b[0;31mModuleNotFoundError\u001b[0m: No module named 'nilearn'"
     ]
    }
   ],
   "source": [
    "import numpy as np\n",
    "from nilearn import plotting\n",
    "import nibabel as nib\n",
    "import matplotlib.pyplot as plt\n",
    "import glob # Importing glob to find files and avoid hardpathing"
   ]
  },
  {
   "cell_type": "markdown",
   "metadata": {},
   "source": [
    "### Code that locates MRI data"
   ]
  },
  {
   "cell_type": "markdown",
   "metadata": {},
   "source": [
    "To avoid hardcoding the path, I use a relative pathname in the glob command, which searches for any files with the extension .nii (because I used *) in the same directory this notebook is saved in.\n",
    "\n",
    "This version allows other people to use the code and manually change only the name of the file. The snippet is also explicit and avoids ambiguity, so that the code targets the filenames."
   ]
  },
  {
   "cell_type": "code",
   "execution_count": 8,
   "metadata": {},
   "outputs": [],
   "source": [
    "import glob\n",
    "\n",
    "anatomical_files = glob.glob(\"*anatomical*.nii*\")\n",
    "\n",
    "uniformity_test_file = glob.glob(\"*uniformity_test*.nii*\")\n",
    "\n"
   ]
  },
  {
   "cell_type": "markdown",
   "metadata": {},
   "source": [
    "### Visualizing the functional data on top of the anatomical scan"
   ]
  },
  {
   "cell_type": "markdown",
   "metadata": {},
   "source": [
    "Use nilearn to plot the functional data (uniformity file) on-top of the anatomical scan (anatomical file). \n",
    "Furthermore, I adjusted the coordinates to display the x=0, y=52, z=20 and adjusted the display mode, because I didn't like the way the coronal and horizontal slices only had L and R annotations and were very far apart. Thus, on-top of each other seems like a better organization\n",
    "I chose the color inferno and put dim = 1 because it was the nicest contrast. Finally, I set vmin=.1 to exclude voxel activations below that"
   ]
  },
  {
   "cell_type": "code",
   "execution_count": 5,
   "metadata": {},
   "outputs": [
    {
     "ename": "NameError",
     "evalue": "name 'plotting' is not defined",
     "output_type": "error",
     "traceback": [
      "\u001b[0;31m---------------------------------------------------------------------------\u001b[0m",
      "\u001b[0;31mNameError\u001b[0m                                 Traceback (most recent call last)",
      "Cell \u001b[0;32mIn[5], line 1\u001b[0m\n\u001b[0;32m----> 1\u001b[0m plot \u001b[38;5;241m=\u001b[39m \u001b[43mplotting\u001b[49m\u001b[38;5;241m.\u001b[39mplot_stat_map(\n\u001b[1;32m      2\u001b[0m     uniformity_test_file,\n\u001b[1;32m      3\u001b[0m     bg_img\u001b[38;5;241m=\u001b[39manatomical_file,\n\u001b[1;32m      4\u001b[0m     cut_coords\u001b[38;5;241m=\u001b[39m(\u001b[38;5;241m0\u001b[39m, \u001b[38;5;241m52\u001b[39m, \u001b[38;5;241m20\u001b[39m),\n\u001b[1;32m      5\u001b[0m     display_mode\u001b[38;5;241m=\u001b[39m\u001b[38;5;124m\"\u001b[39m\u001b[38;5;124mtiled\u001b[39m\u001b[38;5;124m\"\u001b[39m,\n\u001b[1;32m      6\u001b[0m     title\u001b[38;5;241m=\u001b[39m\u001b[38;5;124m\"\u001b[39m\u001b[38;5;124mDefault Mode Network Activation in MRI\u001b[39m\u001b[38;5;124m\"\u001b[39m,\n\u001b[1;32m      7\u001b[0m     cmap\u001b[38;5;241m=\u001b[39m\u001b[38;5;124m\"\u001b[39m\u001b[38;5;124minferno\u001b[39m\u001b[38;5;124m\"\u001b[39m,\n\u001b[1;32m      8\u001b[0m     dim\u001b[38;5;241m=\u001b[39m\u001b[38;5;241m1\u001b[39m,\n\u001b[1;32m      9\u001b[0m     vmin\u001b[38;5;241m=\u001b[39m\u001b[38;5;241m0.1\u001b[39m,\n\u001b[1;32m     10\u001b[0m )\n",
      "\u001b[0;31mNameError\u001b[0m: name 'plotting' is not defined"
     ]
    }
   ],
   "source": [
    "plot = plotting.plot_stat_map(\n",
    "    uniformity_test_file,\n",
    "    bg_img=anatomical_file,\n",
    "    cut_coords=(0, 52, 20),\n",
    "    display_mode=\"tiled\",\n",
    "    title=\"Default Mode Network Activation in MRI\",\n",
    "    cmap=\"inferno\",\n",
    "    dim=1,\n",
    "    vmin=0.1,\n",
    ")"
   ]
  },
  {
   "cell_type": "markdown",
   "metadata": {},
   "source": [
    "### Historgram of the values in the functional data file"
   ]
  },
  {
   "cell_type": "markdown",
   "metadata": {},
   "source": [
    "Firstly, I loaded the MRI data file into an image, got the image daa from it, and converted it into an array, so I can use numpy to select the positive values (I realize it works without converting to array but I like numpy). Then, I select only the positive values from the image data and plot the histogram using only that data. Finally, I add customizations to the historgram. "
   ]
  },
  {
   "cell_type": "code",
   "execution_count": null,
   "metadata": {},
   "outputs": [
    {
     "data": {
      "image/png": "[encoded data removed]",
      "text/plain": [
       "<Figure size 640x480 with 1 Axes>"
      ]
     },
     "metadata": {},
     "output_type": "display_data"
    }
   ],
   "source": [
    "image = nib.load(uniformity_test_file)\n",
    "image_data = image.get_fdata()\n",
    "array_image_data= np.array(image_data)\n",
    "\n",
    "positive_only=array_image_data[array_image_data>0]\n",
    "fig, ax=plt.subplots(1,1)\n",
    "ax.axes.hist(positive_only,\n",
    "             color=\"purple\",\n",
    "             edgecolor=\"orange\")\n",
    "\n",
    "\n",
    "ax.set_title(\"Distribution of the positive functional data values\")\n",
    "plt.ylabel(\"Frequency\")\n",
    "plt.xlabel(\"Voxel activation level\")\n",
    "\n",
    "plt.show()"
   ]
  }
 ],
 "metadata": {
  "kernelspec": {
   "display_name": "HOME_ASSIGNMENT",
   "language": "python",
   "name": "python3"
  },
  "language_info": {
   "codemirror_mode": {
    "name": "ipython",
    "version": 3
   },
   "file_extension": ".py",
   "mimetype": "text/x-python",
   "name": "python",
   "nbconvert_exporter": "python",
   "pygments_lexer": "ipython3",
   "version": "3.12.4"
  }
 },
 "nbformat": 4,
 "nbformat_minor": 2
}
